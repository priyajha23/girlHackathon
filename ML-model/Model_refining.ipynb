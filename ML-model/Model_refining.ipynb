{
  "cells": [
    {
      "cell_type": "code",
      "execution_count": 1,
      "metadata": {
        "id": "OMVWnKMepWGn"
      },
      "outputs": [],
      "source": [
        "import numpy as np\n",
        "import pandas as pd\n",
        "from sklearn.model_selection import train_test_split\n",
        "from sklearn.preprocessing import LabelEncoder, OneHotEncoder\n",
        "from sklearn.metrics import mean_squared_error\n",
        "import tensorflow as tf\n",
        "from tensorflow.keras.models import Sequential\n",
        "from tensorflow.keras.layers import Dense, Dropout\n",
        "\n"
      ]
    },
    {
      "cell_type": "code",
      "execution_count": 2,
      "metadata": {
        "id": "QKyz76foVEjP"
      },
      "outputs": [],
      "source": [
        "data = pd.read_excel('/content/Input data of transactions received from Online Marketplace partners.xlsx')"
      ]
    },
    {
      "cell_type": "code",
      "execution_count": 3,
      "metadata": {
        "id": "Eu1Vry_jVFpJ"
      },
      "outputs": [],
      "source": [
        "data = data.dropna()"
      ]
    },
    {
      "cell_type": "code",
      "execution_count": 4,
      "metadata": {
        "colab": {
          "base_uri": "https://localhost:8080/"
        },
        "id": "_nXCq5eJW3Uz",
        "outputId": "49465c6a-f8a7-4a62-fc0b-7d2d4782408e"
      },
      "outputs": [
        {
          "data": {
            "text/plain": [
              "<bound method NDFrame.head of     vendor_name                             vendor_id  consumer_id  MCC_code  \\\n",
              "0     bigbasket  7f20b039-9c49-4356-b571-32d96300b3b8         9812      1219   \n",
              "2        amazon  ffe4098c-bc1b-489c-8e5b-cc8aeda9cea3         5124      1220   \n",
              "3        amazon  ffe4098c-bc1b-489c-8e5b-cc8aeda9cea3         9190      1220   \n",
              "4     bigbasket  7f20b039-9c49-4356-b571-32d96300b3b8         4123      1219   \n",
              "5     bigbasket  7f20b039-9c49-4356-b571-32d96300b3b8         4123      1219   \n",
              "..          ...                                   ...          ...       ...   \n",
              "995     blinkit  2140b995-348b-4779-bb59-7741a21476b6         9122      1221   \n",
              "996   bigbasket  7f20b039-9c49-4356-b571-32d96300b3b8         9133      1219   \n",
              "997     blinkit  2140b995-348b-4779-bb59-7741a21476b6         9122      1221   \n",
              "998      amazon  ffe4098c-bc1b-489c-8e5b-cc8aeda9cea3         3142      1220   \n",
              "999      amazon  ffe4098c-bc1b-489c-8e5b-cc8aeda9cea3         5124      1220   \n",
              "\n",
              "     Transaction_value transaction_date product_catetgory  \\\n",
              "0            115568.63       2020-05-13           Kitchen   \n",
              "2            308322.94       2021-02-05        Stationary   \n",
              "3            593894.61       2020-01-14          Clothing   \n",
              "4            625724.96       2020-11-27              Toys   \n",
              "5            365581.98       2021-05-18            Sports   \n",
              "..                 ...              ...               ...   \n",
              "995          987803.45       2022-08-19            Sports   \n",
              "996          481410.20       2021-06-06          Clothing   \n",
              "997          329482.69       2022-07-30              Toys   \n",
              "998          124723.81       2021-10-17          Clothing   \n",
              "999           29145.93       2021-04-21           Kitchen   \n",
              "\n",
              "                 Company  Model_number      from_city    to_city  \\\n",
              "0              Calphalon        493771          Delhi      Patna   \n",
              "2                 Apsara        839084         Nagpur  Ghaziabad   \n",
              "3           Under Armour        298676         Jaipur  Bangalore   \n",
              "4         Adventure Toys        953337         Indore     Mumbai   \n",
              "5                 Wilson        127058  Visakhapatnam   Vadodara   \n",
              "..                   ...           ...            ...        ...   \n",
              "995             Spalding        318784         Kanpur      Thane   \n",
              "996         Calvin Klein        265623       Vadodara     Indore   \n",
              "997  Dreamland Creations        336400        Lucknow   Vadodara   \n",
              "998                  H&M        112531        Kolkata      Surat   \n",
              "999              Vitamix        699538          Patna       Pune   \n",
              "\n",
              "       Payment_mode Planet_Pledge Offset  Values_INR  No_of_Activities  \\\n",
              "0        Netbanking            No     No     6037471               246   \n",
              "2              Cash           Yes     No     7521016               337   \n",
              "3             PayTM           Yes     No     7899333               349   \n",
              "4    YoGreen_Wallet           Yes    Yes     9756208               496   \n",
              "5       Credit_Card           Yes     No     5687776               528   \n",
              "..              ...           ...    ...         ...               ...   \n",
              "995  YoGreen_Wallet           Yes    Yes     7169717                19   \n",
              "996            Cash           Yes    Yes     6155636               387   \n",
              "997  YoGreen_Wallet            No    Yes     5082837               915   \n",
              "998      Debit_Card            No    Yes     2441412               409   \n",
              "999      Netbanking            No    Yes      171285               370   \n",
              "\n",
              "     emission_footprint  \n",
              "0                 47078  \n",
              "2                 91442  \n",
              "3                 88364  \n",
              "4                 67714  \n",
              "5                 91252  \n",
              "..                  ...  \n",
              "995               54677  \n",
              "996               39630  \n",
              "997               75440  \n",
              "998               95304  \n",
              "999               38581  \n",
              "\n",
              "[931 rows x 17 columns]>"
            ]
          },
          "execution_count": 4,
          "metadata": {},
          "output_type": "execute_result"
        }
      ],
      "source": [
        "data.head"
      ]
    },
    {
      "cell_type": "code",
      "execution_count": null,
      "metadata": {
        "id": "0eqWGaJiU_wk"
      },
      "outputs": [],
      "source": [
        "target = 'emission_footprint'\n",
        "features = ['product_catetgory', 'from_city', 'to_city', 'Company']\n",
        "\n",
        "label_encoders = {}\n",
        "for feature in features:\n",
        "    label_encoders[feature] = LabelEncoder()\n",
        "    data[feature] = label_encoders[feature].fit_transform(data[feature])\n",
        "\n",
        "\n",
        "X = data[features]\n",
        "y = data[target]\n",
        "X_train, X_test, y_train, y_test = train_test_split(X, y, test_size=0.2, random_state=42)\n",
        "\n",
        "\n",
        "model = Sequential()\n",
        "model.add(Dense(64, activation='relu', input_shape=(len(features),)))\n",
        "model.add(Dropout(0.2))\n",
        "model.add(Dense(32, activation='relu'))\n",
        "model.add(Dropout(0.2))\n",
        "model.add(Dense(1))\n",
        "\n",
        "\n",
        "model.compile(loss='mean_squared_error', optimizer='adam')\n",
        "\n",
        "\n",
        "model.fit(X_train, y_train, epochs=150, batch_size=50, verbose=1)\n",
        "\n",
        "\n",
        "y_pred = model.predict(X_test)\n",
        "mse = mean_squared_error(y_test, y_pred)\n",
        "print(f\"Mean Squared Error: {mse}\")\n",
        "\n",
        "\n",
        "new_data = pd.DataFrame({\n",
        "    \"product_catetgory\": [\"Stationary\"],\n",
        "    \"from_city\": [\"Pune\"],\n",
        "    \"to_city\": [\"Jaipur\"],\n",
        "    \"Company\": [\"Camlin\"]\n",
        "})\n",
        "\n",
        "for feature in features:\n",
        "    new_data[feature] = label_encoders[feature].transform(new_data[feature])\n",
        "\n",
        "prediction = model.predict(new_data)\n",
        "print(f\"Predicted emission footprint: {prediction[0][0]}\")\n"
      ]
    },
    {
      "cell_type": "code",
      "execution_count": null,
      "metadata": {
        "colab": {
          "base_uri": "https://localhost:8080/"
        },
        "id": "DlkVBKlZ8VVS",
        "outputId": "e6e340e4-ae6d-4ac6-f0d5-f7be186ca1f9"
      },
      "outputs": [
        {
          "name": "stdout",
          "output_type": "stream",
          "text": [
            "1/1 [==============================] - 0s 23ms/step\n",
            "1/1 [==============================] - 0s 22ms/step\n",
            "1/1 [==============================] - 0s 21ms/step\n",
            "Lowest predicted emission footprint: 20504.44921875\n"
          ]
        }
      ],
      "source": [
        "def predict_emission_footprint(model, label_encoders, features, new_data):\n",
        "    predictions = []\n",
        "    for data in new_data:\n",
        "        new_data_df = pd.DataFrame({\n",
        "            \"product_catetgory\": [data[0]],\n",
        "            \"from_city\": [data[1]],\n",
        "            \"to_city\": [data[2]],\n",
        "            \"Company\": [data[3]]\n",
        "        })\n",
        "\n",
        "        for feature in features:\n",
        "            new_data_df[feature] = label_encoders[feature].transform(new_data_df[feature])\n",
        "\n",
        "        prediction = model.predict(new_data_df)\n",
        "        predictions.append(prediction[0][0])\n",
        "\n",
        "    lowest_prediction = min(predictions)\n",
        "    return lowest_prediction\n",
        "\n",
        "new_data = [\n",
        "    [\"Stationary\", \"Pune\", \"Jaipur\", \"Camlin\"],\n",
        "    [\"Stationary\", \"Bhopal\", \"Lucknow\", \"Faber\"],\n",
        "    [\"Sports\", \"Bangalore\", \"Chennai\", \"Nike\"]\n",
        "]\n",
        "\n",
        "lowest_prediction = predict_emission_footprint(model, label_encoders, features, new_data)\n",
        "print(f\"Lowest predicted emission footprint: {lowest_prediction}\")"
      ]
    },
    {
      "cell_type": "code",
      "execution_count": null,
      "metadata": {
        "colab": {
          "base_uri": "https://localhost:8080/"
        },
        "id": "1UmjbPQi17tX",
        "outputId": "33731747-8b4d-4607-a0f4-b8e6a1930261"
      },
      "outputs": [
        {
          "name": "stdout",
          "output_type": "stream",
          "text": [
            "Trained model is saved as model.pkl\n"
          ]
        }
      ],
      "source": [
        "import pickle\n",
        "model_filename = \"model.pkl\"\n",
        "with open(model_filename, 'wb') as file:\n",
        "    pickle.dump(model, file)\n",
        "print(f\"Trained model is saved as {model_filename}\")\n"
      ]
    },
    {
      "cell_type": "code",
      "execution_count": null,
      "metadata": {
        "colab": {
          "base_uri": "https://localhost:8080/"
        },
        "id": "aQ9hg5xYSmL2",
        "outputId": "cdbda584-f380-4d0a-bd5f-4520a5e349a1"
      },
      "outputs": [
        {
          "name": "stderr",
          "output_type": "stream",
          "text": [
            "WARNING:absl:Found untraced functions such as _update_step_xla while saving (showing 1 of 1). These functions will not be directly callable after loading.\n"
          ]
        }
      ],
      "source": [
        "import tensorflow as tf\n",
        "\n",
        "converter = tf.lite.TFLiteConverter.from_keras_model(model)\n",
        "tflite_model = converter.convert()\n",
        "\n",
        "with open('model.tflite', 'wb') as f:\n",
        "    f.write(tflite_model)\n"
      ]
    },
    {
      "cell_type": "code",
      "execution_count": null,
      "metadata": {
        "colab": {
          "base_uri": "https://localhost:8080/"
        },
        "id": "1n0xXJPfbkKQ",
        "outputId": "cfa34e8b-18ba-4329-8f87-f02c06c2b5a0"
      },
      "outputs": [
        {
          "name": "stdout",
          "output_type": "stream",
          "text": [
            "Predicted emission footprint: 49153.87695156307\n"
          ]
        }
      ],
      "source": [
        "import numpy as np\n",
        "import pandas as pd\n",
        "from sklearn.model_selection import train_test_split\n",
        "from sklearn.preprocessing import LabelEncoder\n",
        "from sklearn.metrics import mean_squared_error\n",
        "import pickle\n",
        "\n",
        "from sklearn.linear_model import LinearRegression\n",
        "\n",
        "data = pd.read_excel('/content/Input data of transactions received from Online Marketplace partners.xlsx') \n",
        "target = 'emission_footprint'\n",
        "features = ['product_catetgory', 'from_city', 'to_city', 'Company']\n",
        "\n",
        "label_encoders = {}\n",
        "for feature in features:\n",
        "    label_encoders[feature] = LabelEncoder()\n",
        "    data[feature] = label_encoders[feature].fit_transform(data[feature])\n",
        "\n",
        "\n",
        "X = data[features]\n",
        "y = data[target]\n",
        "X_train, X_test, y_train, y_test = train_test_split(X, y, test_size=0.2, random_state=42)\n",
        "\n",
        "model = LinearRegression()\n",
        "\n",
        "model.fit(X_train, y_train)\n",
        "\n",
        "y_pred = model.predict(X_test)\n",
        "\n",
        "new_data = pd.DataFrame({\n",
        "    \"product_catetgory\": [\"Clothing\"],\n",
        "    \"from_city\": [\"Bangalore\"],\n",
        "    \"to_city\": [\"Chennai\"],\n",
        "    \"Company\": [\"Zara\"]\n",
        "})\n",
        "\n",
        "for feature in features:\n",
        "    new_data[feature] = label_encoders[feature].transform(new_data[feature])\n",
        "\n",
        "prediction = model.predict(new_data)\n",
        "print(f\"Predicted emission footprint: {prediction[0]}\")\n",
        "\n",
        "with open('model.pkl', 'wb') as f:\n",
        "    pickle.dump(model, f)\n"
      ]
    }
  ],
  "metadata": {
    "colab": {
      "provenance": []
    },
    "kernelspec": {
      "display_name": "Python 3",
      "name": "python3"
    },
    "language_info": {
      "name": "python"
    }
  },
  "nbformat": 4,
  "nbformat_minor": 0
}
